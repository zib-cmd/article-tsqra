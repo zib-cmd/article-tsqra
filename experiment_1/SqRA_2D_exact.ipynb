{
 "cells": [
  {
   "cell_type": "code",
   "execution_count": 1,
   "id": "12ddfe6b",
   "metadata": {},
   "outputs": [],
   "source": [
    "import numpy as np\n",
    "import scipy \n",
    "import matplotlib.pyplot as plt\n",
    "import matplotlib.cm as cm\n",
    "\n",
    "from tqdm import tqdm\n",
    "from functions_SqRA import grid1, adjancency_matrix_sparse, build_sqra, build_sqra_dec1\n",
    "\n",
    "\n",
    "np.random.seed(0) \n",
    "\n",
    "font = {'size'   : 10}\n",
    "plt.rc('font', **font)\n",
    "in2cm = 1/2.54  # centimeters in inches"
   ]
  },
  {
   "cell_type": "markdown",
   "id": "0e098cd1",
   "metadata": {},
   "source": [
    "## System parameters"
   ]
  },
  {
   "cell_type": "code",
   "execution_count": 2,
   "id": "5f43e9ed",
   "metadata": {},
   "outputs": [],
   "source": [
    "kB     = 0.008314463                 # kJ mol-1 K\n",
    "T      = 300                         # K   \n",
    "mass   = 1                           # amu mol-1\n",
    "gamma  = 1                           # ps-1 \n",
    "D      = kB * T / mass / gamma       # nm2 ps-1\n",
    "sigma  = np.sqrt(2 * D)              # nm ps-1/2\n",
    "beta   = 1 / kB / T                  # kJ-1 mol "
   ]
  },
  {
   "cell_type": "markdown",
   "id": "d12c1c8c",
   "metadata": {},
   "source": [
    "## Potential energy function"
   ]
  },
  {
   "cell_type": "code",
   "execution_count": 3,
   "id": "953ede58",
   "metadata": {},
   "outputs": [],
   "source": [
    "def V1(x):\n",
    "    return 1*(x**2 - 1) ** 2 + x\n",
    "\n",
    "def V2(y):\n",
    "    return 2*y ** 2\n",
    "\n",
    "def V12(x,y):\n",
    "    return x * y\n",
    "    #return 1/np.sqrt(x**2 + y**2)\n",
    "\n",
    "\"\"\"def V12(x,y):\n",
    "    par_coulomb  = 1\n",
    "    par_lj       = np.array([2, 0.5])\n",
    "        \n",
    "    tol = 1e-5    \n",
    "    norm_rij = np.sqrt((x-y)**2 + 1) #np.sqrt(x**2 + y**2)\n",
    "    \n",
    "    V12 = np.zeros(norm_rij.shape)\n",
    "    \n",
    "    V12[norm_rij<tol] = np.inf\n",
    "    norm_rij[(norm_rij > tol) & (norm_rij < par_lj[1])] = par_lj[1]\n",
    "\n",
    "    return -1 * par_coulomb ** 2 / norm_rij + \\\n",
    "                     4*par_lj[0] * (( par_lj[1] / norm_rij ) ** 12 - ( par_lj[1] / norm_rij ) ** 6)\n",
    "\"\"\"\n",
    "\n",
    "def V(c, X):\n",
    "    \n",
    "    return V1(X[0]) + V2(X[1]) + c * V12(X[0], X[1])\n"
   ]
  },
  {
   "cell_type": "markdown",
   "id": "22c2a3fd",
   "metadata": {},
   "source": [
    "#### Figure 2D potential"
   ]
  },
  {
   "cell_type": "code",
   "execution_count": 4,
   "id": "11f81b12",
   "metadata": {},
   "outputs": [
    {
     "data": {
      "image/png": "[encoded data removed]",
      "text/plain": [
       "<Figure size 226.772x113.386 with 3 Axes>"
      ]
     },
     "metadata": {
      "needs_background": "light"
     },
     "output_type": "display_data"
    }
   ],
   "source": [
    "xcenters, xedges, xbins, dx = grid1(-2.5, 2.5, 50)\n",
    "ycenters, yedges, ybins, dy = grid1(-2.5, 2.5, 50)\n",
    "\n",
    "grid = np.meshgrid(xcenters, ycenters)\n",
    "X    = np.stack([grid[0], grid[1]])\n",
    "V0n   = V(0, X)\n",
    "V1n   = V(1, X)\n",
    "\n",
    "# Plot potential\n",
    "fig = plt.figure(figsize=(8*in2cm, 4*in2cm))\n",
    "\n",
    "###################################################################### 2D \n",
    "\n",
    "\n",
    "ax = fig.add_subplot(1, 2, 1)\n",
    "\n",
    "pos = ax.pcolormesh(X[0], X[1], V0n, shading='gouraud', vmax = 3, cmap = cm.hot)\n",
    "\n",
    "ax.set_title('Unperturbed', fontsize = 10)\n",
    "ax.set_aspect('equal', 'box')\n",
    "ax.set_xlabel(r'$x_1$')\n",
    "ax.set_ylabel(r'$x_2$')\n",
    "\n",
    "ax = fig.add_subplot(1, 2, 2)\n",
    "\n",
    "pos = ax.pcolormesh(X[0], X[1], V1n, shading='gouraud', vmax = 3, cmap = cm.hot)\n",
    "\n",
    "ax.set_title('Perturbed', fontsize = 10)\n",
    "ax.set_aspect('equal', 'box')\n",
    "ax.set_xlabel(r'$x_1$')\n",
    "ax.set_yticks([])\n",
    "\n",
    "#ax.set_ylabel('y')\n",
    "\n",
    "cbar_ax = fig.add_axes([0.92, 0.085, 0.04, 0.83])\n",
    "fig.colorbar(pos, cax=cbar_ax)\n",
    "\n",
    "\n",
    "plt.subplots_adjust(left=0, bottom=0, right=0.9, top=1, wspace=0.15, hspace=0)\n",
    "#fig.savefig('figures/potentials_2D.pdf', format='pdf', dpi=900, bbox_inches='tight')"
   ]
  },
  {
   "cell_type": "markdown",
   "id": "cadc17ee",
   "metadata": {},
   "source": [
    "## Grid definition"
   ]
  },
  {
   "cell_type": "code",
   "execution_count": 5,
   "id": "c23d81aa",
   "metadata": {},
   "outputs": [
    {
     "name": "stdout",
     "output_type": "stream",
     "text": [
      "Total number of bins:  2500\n"
     ]
    }
   ],
   "source": [
    "# Number of dimensions\n",
    "Nd       = 2\n",
    "\n",
    "a = 3.4\n",
    "xcenters, xedges, xbins, dx = grid1(-a, a, 51)\n",
    "ycenters, yedges, ybins, dy = grid1(-a, a, 51)\n",
    "\n",
    "bins = np.array([xbins, ybins])\n",
    "DX   = np.array([dx, dy])\n",
    "\n",
    "grid = np.meshgrid(xcenters, ycenters)\n",
    "X    = np.stack([grid[0], grid[1]])\n",
    "\n",
    "# Total number of bins\n",
    "Nbins = xbins * ybins\n",
    "print(\"Total number of bins: \", Nbins)"
   ]
  },
  {
   "cell_type": "markdown",
   "id": "e02e7663",
   "metadata": {},
   "source": [
    "# Uncoupled Potential $c=0$\n",
    "### SqRA of the full system"
   ]
  },
  {
   "cell_type": "code",
   "execution_count": 6,
   "id": "71c38ad2",
   "metadata": {},
   "outputs": [],
   "source": [
    "# Coupling coefficient\n",
    "c = 0\n",
    "\n",
    "# Stationary distribution\n",
    "pi0 = np.exp(- beta * V(c, X).flatten('C') )\n",
    "\n",
    "## SqRA\n",
    "# Qd  : rate matrix D-1 A D - E\n",
    "# Qc  : rate matrix from PCCA+\n",
    "# chi : membership functions\n",
    "# Qo  : matrix D-1 A D\n",
    "Qd, Qc, chi, Qo = build_sqra(D, pi0, DX, bins)\n",
    "\n",
    "# Eigenvalue problem\n",
    "eigenval_c0,    eigenvec_c0    = scipy.sparse.linalg.eigs(Qd, 4, which='LR')\n",
    "eigenval_Qo_c0, eigenvec_Qo_c0 = scipy.sparse.linalg.eigs(Qo, 4, which='LR')"
   ]
  },
  {
   "cell_type": "markdown",
   "id": "5f494abc",
   "metadata": {},
   "source": [
    "### SqRA of the sub-systems"
   ]
  },
  {
   "cell_type": "code",
   "execution_count": 7,
   "id": "cbfa778e",
   "metadata": {},
   "outputs": [
    {
     "name": "stderr",
     "output_type": "stream",
     "text": [
      "/tmp/ipykernel_24248/3550267039.py:33: ComplexWarning: Casting complex values to real discards the imaginary part\n",
      "  eigenval_d_c0[k]     = eigenval_i[0][j] + eigenval_i[1][i]\n",
      "/tmp/ipykernel_24248/3550267039.py:34: ComplexWarning: Casting complex values to real discards the imaginary part\n",
      "  eigenvec_d_c0[:,k] = np.diag( \\\n"
     ]
    }
   ],
   "source": [
    "# Stationary distributions\n",
    "pi1 = np.exp(- beta * V1(xcenters) )\n",
    "pi2 = np.exp(- beta * V2(ycenters) )\n",
    "\n",
    "PI = np.array([pi1, pi2], dtype=object)\n",
    "\n",
    "## SqRA\n",
    "Ai, Ii, Qoi, Ei =  build_sqra_dec1(D, PI, DX, bins)\n",
    "\n",
    "\n",
    "# Eigenvalue problem of the subsystems\n",
    "eigenval_i  = np.empty(Nd, dtype=object)\n",
    "eigenvec_i  = np.empty(Nd, dtype=object)\n",
    "\n",
    "# Entropical matrix\n",
    "e_i         = np.empty(Nd, dtype=object)\n",
    "Ei2         = np.empty(Nd, dtype=object)\n",
    "Qi          = np.empty(Nd, dtype=object)\n",
    "\n",
    "for i in range(Nd):\n",
    "    e_i[i]                       = np.ones(bins[i])\n",
    "    Ei2[i]                       = scipy.sparse.spdiags( Qoi[i] * e_i[i], 0, bins[i], bins[i] ) \n",
    "    Qi[i]                        = Qoi[i] - Ei2[i]\n",
    "    eigenval_i[i], eigenvec_i[i] = scipy.sparse.linalg.eigs(Qi[i], 4, which='LR')\n",
    "    eigenvec_i[i][:,0]           = np.abs(eigenvec_i[i][:,0])\n",
    "    \n",
    "# Kronacker product / sum rules to estimate eigenvalues/eigenvectors of the full system\n",
    "eigenval_d_c0 = np.zeros(4)\n",
    "eigenvec_d_c0 = np.zeros((Nbins, 4))\n",
    "k = 0\n",
    "for i in range(2):\n",
    "    for j in range(2):\n",
    "        eigenval_d_c0[k]     = eigenval_i[0][j] + eigenval_i[1][i]\n",
    "        eigenvec_d_c0[:,k] = np.diag( \\\n",
    "                                     scipy.sparse.kron( scipy.sparse.spdiags( eigenvec_i[1][:,i], 0, bins[1], bins[1] ) , \\\n",
    "                                                        scipy.sparse.spdiags( eigenvec_i[0][:,j], 0, bins[0], bins[0] )   \\\n",
    "                                                      ).toarray()\n",
    "                                    )\n",
    "        k = k + 1\n",
    "\n",
    "# eigenval_d is equal to eigenval\n",
    "# eigenvec_d is equal to eigenvec"
   ]
  },
  {
   "cell_type": "markdown",
   "id": "e69de64a",
   "metadata": {},
   "source": [
    "# Coupled Potential $c=1$\n",
    "### SqRA of the full system"
   ]
  },
  {
   "cell_type": "code",
   "execution_count": 8,
   "id": "a571df0c",
   "metadata": {},
   "outputs": [],
   "source": [
    "# Coupling coefficient\n",
    "c = 1\n",
    "\n",
    "# Stationary distribution\n",
    "pi = np.exp(- beta * V(c, X).flatten('C') )\n",
    "\n",
    "## SqRA\n",
    "# Qd  : rate matrix D-1 A D - E\n",
    "# Qc  : rate matrix from PCCA+\n",
    "# chi : membership functions\n",
    "# Qo  : matrix D-1 A D\n",
    "Qd, Qc, chi, Qo = build_sqra(D, pi, DX, bins)\n",
    "\n",
    "# Eigenvalue problem\n",
    "eigenval_c1, eigenvec_c1 = scipy.sparse.linalg.eigs(Qd, 4, which='LR')\n",
    "eigenval_Qo_c1, eigenvec_Qo_c1 = scipy.sparse.linalg.eigs(Qo, 4, which='LR')"
   ]
  },
  {
   "cell_type": "markdown",
   "id": "251c6361",
   "metadata": {},
   "source": [
    "### SqRA of the sub-systems"
   ]
  },
  {
   "cell_type": "code",
   "execution_count": 9,
   "id": "b8f27367",
   "metadata": {},
   "outputs": [
    {
     "name": "stdout",
     "output_type": "stream",
     "text": [
      "[ 3.18634008e-13+0.j -1.81750841e+00+0.j -4.31074085e+00+0.j\n",
      " -5.47000975e+00+0.j]\n"
     ]
    }
   ],
   "source": [
    "# Stationary distributions\n",
    "pi1  = np.exp(- beta * V1(xcenters) )\n",
    "pi2  = np.exp(- beta * V2(ycenters) )\n",
    "pi12 = np.exp(- beta * V12(X[0], X[1]).flatten('C') )\n",
    "PI   = np.array([pi1, pi2], dtype=object)\n",
    "\n",
    "## SqRA\n",
    "#Ai, Ii, Qoi, Ei are lists containing the matrices of the uncoupled subsystems\n",
    "Ai, Ii, Qoi, Ei =  build_sqra_dec1(D, PI, DX, bins)\n",
    "\n",
    "# off-diagonal matrix of the uncoupled system\n",
    "Qod             = 0\n",
    "\n",
    "for i in range(Nd):\n",
    "    Qod = scipy.sparse.kronsum(Qod, Qoi[i])\n",
    "    \n",
    "# Build D12inv and D12\n",
    "SQRA   = np.sqrt(pi12)\n",
    "D12    = scipy.sparse.spdiags( SQRA,     0, Nbins, Nbins) #.toarray()\n",
    "D12inv = scipy.sparse.spdiags( 1 / SQRA, 0, Nbins, Nbins)  \n",
    "\n",
    "# Multiply Qo by D12inv and D12\n",
    "Qod     = D12inv * Qod * D12\n",
    "\n",
    "# Build rate matrix Q\n",
    "E      = scipy.sparse.spdiags( Qod.sum(axis=1).T, 0, Nbins, Nbins )\n",
    "Q      = Qod - E \n",
    "\n",
    "eigenval_Qo_d_c1, eigenvec_Qo_d_c1  = scipy.sparse.linalg.eigs(Qod, 4, which='LR')\n",
    "eigenval_d_c1,    eigenvec_d_c1     = scipy.sparse.linalg.eigs(Q,   4, which='LR')\n",
    "\n",
    "print(eigenval_d_c1)"
   ]
  },
  {
   "cell_type": "markdown",
   "id": "6ba8df5f",
   "metadata": {},
   "source": [
    "### Figures eigenvectors and eigenvalues"
   ]
  },
  {
   "cell_type": "code",
   "execution_count": 10,
   "id": "292ccb7b",
   "metadata": {},
   "outputs": [
    {
     "name": "stderr",
     "output_type": "stream",
     "text": [
      "/tmp/ipykernel_24248/1758196960.py:29: ComplexWarning: Casting complex values to real discards the imaginary part\n",
      "  e1_c1  =  - eigenvec_d_c1[:,1].astype('float').reshape(bins[0], bins[1])\n",
      "/tmp/ipykernel_24248/1758196960.py:34: ComplexWarning: Casting complex values to real discards the imaginary part\n",
      "  e2_c1  = -  eigenvec_d_c1[:,2].astype('float').reshape(bins[0], bins[1])\n",
      "/tmp/ipykernel_24248/1758196960.py:39: ComplexWarning: Casting complex values to real discards the imaginary part\n",
      "  e3_c1  =    eigenvec_d_c1[:,3].astype('float').reshape(bins[0], bins[1])\n"
     ]
    },
    {
     "data": {
      "image/png": "[encoded data removed]",
      "text/plain": [
       "<Figure size 453.543x226.772 with 8 Axes>"
      ]
     },
     "metadata": {
      "needs_background": "light"
     },
     "output_type": "display_data"
    }
   ],
   "source": [
    "e0_c0  =   np.abs(eigenvec_d_c0[:,0]).reshape(bins[0], bins[1])\n",
    "\n",
    "e1_c0   =   eigenvec_d_c0[:,1].reshape(bins[0], bins[1])\n",
    "e1_c0_s = np.copy(e1_c0)\n",
    "e1_c0_s[e1_c0_s>=0]  =  0.1\n",
    "e1_c0_s[e1_c0_s<0]  =  -0.1\n",
    "\n",
    "e2_c0  =   eigenvec_d_c0[:,2].reshape(bins[0], bins[1])\n",
    "e2_c0_s = np.copy(e2_c0)\n",
    "e2_c0_s[e2_c0_s>=0]  =  0.1\n",
    "e2_c0_s[e2_c0_s<0]  =  -0.1\n",
    "\n",
    "\n",
    "e3_c0  =   eigenvec_d_c0[:,3].reshape(bins[0], bins[1])\n",
    "e3_c0_s = np.copy(e3_c0)\n",
    "e3_c0_s[e3_c0_s>=0]  =  0.1\n",
    "e3_c0_s[e3_c0_s<0]  =  -0.1\n",
    "\n",
    "\"\"\"e0_c1  =   np.abs(eigenvec_c1[:,0]).astype('float').reshape(bins[0], bins[1])\n",
    "e1_c1  =   eigenvec_c1[:,1].astype('float').reshape(bins[0], bins[1])\n",
    "e2_c1  =   eigenvec_c1[:,2].astype('float').reshape(bins[0], bins[1])\n",
    "e3_c1  = - eigenvec_c1[:,3].astype('float').reshape(bins[0], bins[1])\n",
    "\"\"\"\n",
    "e0_c1  =   np.abs(eigenvec_d_c1[:,0]).astype('float').reshape(bins[0], bins[1])\n",
    "e0_c1_s = np.copy(e0_c1)\n",
    "e0_c1_s[e0_c1_s>=0]  =  0.1\n",
    "e0_c1_s[e0_c1_s<0]  =  -0.1\n",
    "\n",
    "e1_c1  =  - eigenvec_d_c1[:,1].astype('float').reshape(bins[0], bins[1])\n",
    "e1_c1_s = np.copy(e1_c1)\n",
    "e1_c1_s[e1_c1_s>=0]  =  0.1\n",
    "e1_c1_s[e1_c1_s<0]  =  -0.1\n",
    "\n",
    "e2_c1  = -  eigenvec_d_c1[:,2].astype('float').reshape(bins[0], bins[1])\n",
    "e2_c1_s = np.copy(e2_c1)\n",
    "e2_c1_s[e2_c1_s>=0]  =  0.1\n",
    "e2_c1_s[e2_c1_s<0]  =  -0.1\n",
    "\n",
    "e3_c1  =    eigenvec_d_c1[:,3].astype('float').reshape(bins[0], bins[1])\n",
    "e3_c1_s = np.copy(e3_c1)\n",
    "e3_c1_s[e3_c1_s>=0]  =  0.1\n",
    "e3_c1_s[e3_c1_s<0]  =  -0.1\n",
    "\n",
    "plt.rcParams.update({'font.size': 10})\n",
    "\n",
    "fig = plt.figure(figsize=(16*in2cm, 8*in2cm))\n",
    "\n",
    "###################################################################### UNCOUPLED\n",
    "\n",
    "# Eigenvector 0\n",
    "ax  = fig.add_subplot(2, 4, 1)\n",
    "pos = ax.pcolormesh(X[0], X[1], e0_c0, shading='gouraud', vmin = 0, vmax = 0.05, cmap = cm.hot)\n",
    "\n",
    "ax.axis(\"square\")\n",
    "ax.set_xticks([])\n",
    "ax.set_yticks([-2, 0, 2])\n",
    "ax.set_ylabel(r\"$x_2$\")\n",
    "ax.set_title(r\"Eigenvector $X_0$\", fontsize = 10)\n",
    "ax.text(-5.2,3.5,'(a)')\n",
    "\n",
    "\n",
    "# Eigenvector 1\n",
    "ax = fig.add_subplot(2, 4, 2)\n",
    "pos = ax.pcolormesh(X[0], X[1], e1_c0_s, shading='gouraud', vmin = -0.05, vmax = 0.05, cmap = cm.bwr)\n",
    "#pos = ax.pcolormesh(X[0], X[1], e1_c0, shading='gouraud', vmin = -0.1, vmax = 0.1, cmap = cm.bwr)\n",
    "ax.contour(X[0], X[1], e1_c0, 0, colors=('w', '1'))\n",
    "\n",
    "ax.axis(\"square\")\n",
    "ax.set_xticks([])\n",
    "ax.set_yticks([])\n",
    "ax.set_title(r\"Eigenvector $X_1$\", fontsize = 10)\n",
    "\n",
    "# Eigenvector 2\n",
    "ax = fig.add_subplot(2, 4, 3)\n",
    "pos = ax.pcolormesh(X[0], X[1], e2_c0_s, shading='gouraud', vmin = -0.05, vmax = 0.05, cmap = cm.bwr)\n",
    "ax.contour(X[0], X[1], e2_c0, 0, colors=('w', '1'))\n",
    "\n",
    "ax.axis(\"square\")\n",
    "ax.set_xticks([])\n",
    "ax.set_yticks([])\n",
    "ax.set_title(r\"Eigenvector $X_2$\", fontsize = 10)\n",
    "\n",
    "# Eigenvector 3\n",
    "ax = fig.add_subplot(2, 4, 4)\n",
    "pos = ax.pcolormesh(X[0], X[1], e3_c0_s, shading='gouraud', vmin = -0.05, vmax = 0.05, cmap = cm.bwr)\n",
    "#pos = ax.pcolormesh(X[0], X[1], e3_c0, shading='gouraud', vmin = -0.05, vmax = 0.05, cmap = cm.bwr)\n",
    "ax.contour(X[0], X[1], e3_c0, 0, colors=('k', '0'), linewidths=1.2)\n",
    "ax.contour(X[0], X[1], e3_c0, 0, colors=('w', '1'))\n",
    "\n",
    "ax.axis(\"square\")\n",
    "ax.set_xticks([])\n",
    "ax.set_yticks([])\n",
    "ax.set_title(r\"Eigenvector $X_3$\", fontsize = 10)\n",
    "\n",
    "\n",
    "###################################################################### COUPLED\n",
    "\n",
    "# Eigenvector 0\n",
    "ax = fig.add_subplot(2, 4, 5)\n",
    "#pos = ax.pcolormesh(X[0], X[1], e0_c1, shading='gouraud', vmin = 0, vmax = 0.05, cmap = cm.hot)\n",
    "pos = ax.pcolormesh(X[0], X[1], e0_c1, shading='gouraud', vmin = 0, vmax = 0.05, cmap = cm.hot)\n",
    "ax.axis(\"square\")\n",
    "ax.set_xticks([-2, 0, 2])\n",
    "ax.set_yticks([-2, 0, 2])\n",
    "ax.set_xlabel(r\"$x_1$\")\n",
    "ax.set_ylabel(r\"$x_2$\")\n",
    "#cbar_ax = fig.add_axes([0.02, -0.18, 0.2, 0.05])\n",
    "#fig.colorbar(pos, cax=cbar_ax, orientation=\"horizontal\")\n",
    "ax.text(-5.2,3.5,'(b)')\n",
    "\n",
    "\n",
    "# Eigenvector 1\n",
    "ax = fig.add_subplot(2, 4, 6)\n",
    "#pos = ax.pcolormesh(X[0], X[1], e1_c1, shading='gouraud', vmin = -0.05, vmax = 0.05, cmap = cm.bwr)\n",
    "pos = ax.pcolormesh(X[0], X[1], -e1_c1_s, shading='gouraud', vmin = -0.05, vmax = 0.05, cmap = cm.bwr)\n",
    "ax.contour(X[0], X[1], e1_c1, 0, colors=('w', '1'))\n",
    "\n",
    "ax.axis(\"square\")\n",
    "ax.set_xlabel(r\"$x_1$\")\n",
    "ax.set_xticks([-2, 0, 2])\n",
    "ax.set_yticks([])\n",
    "\n",
    "# Eigenvector 2\n",
    "ax = fig.add_subplot(2, 4, 7)\n",
    "#pos = ax.pcolormesh(X[0], X[1], -e2_c1, shading='gouraud', vmin = -0.05, vmax = 0.05, cmap = cm.bwr)\n",
    "pos = ax.pcolormesh(X[0], X[1], -e2_c1_s, shading='gouraud', vmin = -0.05, vmax = 0.05, cmap = cm.bwr)\n",
    "ax.contour(X[0], X[1], e2_c1, 0, colors=('w', '1'))\n",
    "\n",
    "ax.axis(\"square\")\n",
    "ax.set_xlabel(r\"$x_1$\")\n",
    "ax.set_xticks([-2, 0, 2])\n",
    "ax.set_yticks([])\n",
    "\n",
    "# Eigenvector 3\n",
    "ax = fig.add_subplot(2, 4, 8)\n",
    "#pos = ax.pcolormesh(X[0], X[1], e3_c1, shading='gouraud', vmin = -0.05, vmax = 0.05, cmap = cm.bwr)\n",
    "pos = ax.pcolormesh(X[0], X[1], -e3_c1_s, shading='gouraud', vmin = -0.05, vmax = 0.05, cmap = cm.bwr)\n",
    "ax.contour(X[0], X[1], e3_c1, 0, colors=('w', '1'))\n",
    "\n",
    "ax.axis(\"square\")\n",
    "ax.set_xlabel(r\"$x_1$\")\n",
    "ax.set_xticks([-2, 0, 2])\n",
    "ax.set_yticks([])\n",
    "#cbar_ax = fig.add_axes([0.5, -0.18, 0.2, 0.05])\n",
    "#fig.colorbar(pos, cax=cbar_ax, orientation=\"horizontal\")\n",
    "\n",
    "\n",
    "\n",
    "#fig.colorbar(pos, cax=cbar_ax)\n",
    "\n",
    "\n",
    "plt.subplots_adjust(left=0, bottom=0, right=0.95, top=1, wspace=0.05, hspace=0.1)\n",
    "#fig.savefig('figures/eigenvectors.pdf', format='pdf', dpi=900, bbox_inches='tight')"
   ]
  },
  {
   "cell_type": "code",
   "execution_count": 11,
   "id": "b2e46a91",
   "metadata": {},
   "outputs": [
    {
     "name": "stdout",
     "output_type": "stream",
     "text": [
      "[ 3.18634008e-13+0.j -1.81750841e+00+0.j -4.31074085e+00+0.j\n",
      " -5.47000975e+00+0.j]\n"
     ]
    },
    {
     "name": "stderr",
     "output_type": "stream",
     "text": [
      "/scratch/htc/ldonati/anaconda3/envs/emma/lib/python3.9/site-packages/matplotlib/cbook/__init__.py:1298: ComplexWarning: Casting complex values to real discards the imaginary part\n",
      "  return np.asarray(x, float)\n"
     ]
    },
    {
     "data": {
      "image/png": "[encoded data removed]",
      "text/plain": [
       "<Figure size 226.772x113.386 with 2 Axes>"
      ]
     },
     "metadata": {
      "needs_background": "light"
     },
     "output_type": "display_data"
    }
   ],
   "source": [
    "plt.rcParams.update({'font.size': 10})\n",
    "\n",
    "fig = plt.figure(figsize=(8*in2cm, 4*in2cm))\n",
    "\n",
    "ax = fig.add_subplot(1, 2, 1)\n",
    "ax.plot(eigenval_Qo_c0, 'bs', label = r\"$c=0$\")\n",
    "#ax.plot(eigenval_Qo_c1, 'ro', label = r\"$c=1$\", markersize = 4)\n",
    "ax.plot(eigenval_Qo_d_c1, 'ro', label = r\"$c=1$\", markersize = 4)\n",
    "ax.set_xticks([0, 1, 2, 3]);\n",
    "ax.set_title(r\"Eigenvalues $Q^{(o)}$\", fontsize = 10)\n",
    "ax.set_xlabel(r\"$\\lambda_k$\")\n",
    "ax.legend()\n",
    "\n",
    "ax = fig.add_subplot(1, 2, 2)\n",
    "ax.plot(eigenval_d_c0, 'bs', label = r\"$c=0$\")\n",
    "ax.plot(eigenval_d_c1,   'ro', label = r\"$c=1$\", markersize = 4)\n",
    "ax.set_xticks([0, 1, 2, 3]);\n",
    "ax.set_title(r\"Eigenvalues $Q$\", fontsize = 10)\n",
    "ax.set_xlabel(r\"$\\lambda_k$\")\n",
    "\n",
    "plt.subplots_adjust(left=0, bottom=0, right=1, top=1, wspace=0.25, hspace=0.0)\n",
    "#fig.savefig('figures/eigenvalues.pdf', format='pdf', dpi=900, bbox_inches='tight')\n",
    "\n",
    "print(eigenval_d_c1)"
   ]
  },
  {
   "cell_type": "code",
   "execution_count": 12,
   "id": "651dfe26",
   "metadata": {},
   "outputs": [],
   "source": [
    "#filename = 'results_exact.npy'\n",
    "#np.save(filename, [X, e0_c0, e0_c1, e1_c1_s, e1_c1, e2_c1_s, e2_c1, e3_c1_s, e3_c1, eigenval_Qo_c0, eigenval_Qo_d_c1, eigenval_d_c0, eigenval_d_c1])"
   ]
  },
  {
   "cell_type": "code",
   "execution_count": 13,
   "id": "f3b3ed3e",
   "metadata": {},
   "outputs": [
    {
     "data": {
      "text/plain": [
       "array([4.28413437e+12, 4.77093326e-01, 2.50856725e-01, 1.64409727e-01])"
      ]
     },
     "execution_count": 13,
     "metadata": {},
     "output_type": "execute_result"
    }
   ],
   "source": [
    "-1/eigenval_d_c0"
   ]
  },
  {
   "cell_type": "code",
   "execution_count": 14,
   "id": "4105cfba",
   "metadata": {},
   "outputs": [
    {
     "data": {
      "text/plain": [
       "array([-3.13839695e+12+0.j,  5.50203782e-01-0.j,  2.31978686e-01-0.j,\n",
       "        1.82815031e-01-0.j])"
      ]
     },
     "execution_count": 14,
     "metadata": {},
     "output_type": "execute_result"
    }
   ],
   "source": [
    "-1/eigenval_d_c1"
   ]
  },
  {
   "cell_type": "code",
   "execution_count": null,
   "id": "acbf61e6",
   "metadata": {},
   "outputs": [],
   "source": []
  }
 ],
 "metadata": {
  "kernelspec": {
   "display_name": "Python 3 (ipykernel)",
   "language": "python",
   "name": "python3"
  },
  "language_info": {
   "codemirror_mode": {
    "name": "ipython",
    "version": 3
   },
   "file_extension": ".py",
   "mimetype": "text/x-python",
   "name": "python",
   "nbconvert_exporter": "python",
   "pygments_lexer": "ipython3",
   "version": "3.9.13"
  }
 },
 "nbformat": 4,
 "nbformat_minor": 5
}
