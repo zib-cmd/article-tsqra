{
 "cells": [
  {
   "cell_type": "code",
   "execution_count": 1,
   "id": "12ddfe6b",
   "metadata": {},
   "outputs": [],
   "source": [
    "import numpy as np\n",
    "import scipy.sparse.linalg as spl\n",
    "import matplotlib.pyplot as plt\n",
    "\n",
    "from functions_SqRA import grid1, build_sqra_i\n",
    "\n",
    "\n",
    "np.random.seed(0) \n",
    "\n",
    "font = {'size'   : 10}\n",
    "plt.rc('font', **font)\n",
    "in2cm = 1/2.54  # centimeters in inches"
   ]
  },
  {
   "cell_type": "markdown",
   "id": "0e098cd1",
   "metadata": {},
   "source": [
    "## System parameters"
   ]
  },
  {
   "cell_type": "code",
   "execution_count": 2,
   "id": "5f43e9ed",
   "metadata": {},
   "outputs": [],
   "source": [
    "kB     = 0.008314463                 # kJ mol-1 K\n",
    "T      = 300                         # K   \n",
    "mass   = 1                           # amu mol-1\n",
    "gamma  = 1                           # ps-1 \n",
    "D      = kB * T / mass / gamma       # nm2 ps-1\n",
    "sigma  = np.sqrt(2 * D)              # nm ps-1/2\n",
    "beta   = 1 / kB / T                  # kJ-1 mol "
   ]
  },
  {
   "cell_type": "markdown",
   "id": "d12c1c8c",
   "metadata": {},
   "source": [
    "## Potential energy function"
   ]
  },
  {
   "cell_type": "code",
   "execution_count": 3,
   "id": "953ede58",
   "metadata": {},
   "outputs": [],
   "source": [
    "def V_i(x):\n",
    "    return 1*(x**2 - 1) ** 2 \n",
    "\n",
    "def V_ij(x,y):\n",
    "    return 0.5*np.abs(x - y)**2\n",
    "\n",
    "def V_I(N,X):\n",
    "    \n",
    "    v = 0\n",
    "    \n",
    "    for i in range(N-1):\n",
    "        v = v + V_ij(X[i],X[i+1])\n",
    "    return v\n",
    "\n",
    "def V(N, c, X):\n",
    "    \n",
    "    v = 0\n",
    "    \n",
    "    for i in range(N):\n",
    "        v = v + V_i(X[i])\n",
    "        \n",
    "        if i<N-1:\n",
    "            v = v + c * V_ij(X[i],X[i+1])\n",
    "            \n",
    "    return v"
   ]
  },
  {
   "cell_type": "markdown",
   "id": "cadc17ee",
   "metadata": {},
   "source": [
    "## Grid definition"
   ]
  },
  {
   "cell_type": "code",
   "execution_count": 4,
   "id": "c23d81aa",
   "metadata": {},
   "outputs": [
    {
     "name": "stdout",
     "output_type": "stream",
     "text": [
      "Total number of bins:  78125\n"
     ]
    },
    {
     "data": {
      "text/plain": [
       "[<matplotlib.lines.Line2D at 0x26199eda340>]"
      ]
     },
     "execution_count": 4,
     "metadata": {},
     "output_type": "execute_result"
    },
    {
     "data": {
      "image/png": "[encoded data removed]",
      "text/plain": [
       "<Figure size 640x480 with 1 Axes>"
      ]
     },
     "metadata": {},
     "output_type": "display_data"
    }
   ],
   "source": [
    "# Number of dimensions\n",
    "Nd       = 7\n",
    "\n",
    "Nedges = 6\n",
    "\n",
    "a = 2.5\n",
    "xcenters, xedges, xbins, dx = grid1(-a, a, Nedges)\n",
    "\n",
    "bins = np.array([xbins for i in range(Nd)])\n",
    "DX   = np.array([dx    for i in range(Nd)])\n",
    "\n",
    "grid = np.meshgrid(*[xcenters for i in range(Nd)])\n",
    "X    = np.stack([grid[i] for i in range(Nd)])\n",
    "\n",
    "# Total number of bins\n",
    "Nbins = xbins ** Nd\n",
    "print(\"Total number of bins: \", Nbins)\n",
    "plt.plot(xcenters, V_i(xcenters))"
   ]
  },
  {
   "cell_type": "markdown",
   "id": "e02e7663",
   "metadata": {},
   "source": [
    "## Unperturbed system\n",
    "#### Build matrix of each subsystem"
   ]
  },
  {
   "cell_type": "code",
   "execution_count": 5,
   "id": "4a0a7165",
   "metadata": {},
   "outputs": [],
   "source": [
    "# Stationary distribution\n",
    "pi_i = np.exp(- beta * V_i(xcenters) ) \n",
    "PI   = np.array([pi_i for i in range(Nd)]) #, dtype=object \n",
    "\n",
    "## SqRA\n",
    "Q_i, Qo_i =  build_sqra_i(D, PI, DX, bins)\n",
    "\n",
    "# Eigenvalue problem\n",
    "evals_i = np.empty(Nd, dtype=object)\n",
    "\n",
    "for i in range(Nd):\n",
    "    evals_i[i],   _  =  spl.eigs(Q_i[i],  2, which='LR')\n",
    "    evals_i[i]       = -np.sort(-evals_i[i])\n",
    "    \n",
    "# Create all combinations\n",
    "evals = np.c_[np.array(np.meshgrid(*[evals_i[i] for i in range(Nd)])).T.reshape(-1,Nd)]\n",
    "\n",
    "# Sum along the rows\n",
    "evals = np.sum(evals, axis = 1)\n",
    "        \n",
    "# Sort eigenvalues\n",
    "evals = -np.sort(-evals)\n",
    "evals = evals[0:6]"
   ]
  },
  {
   "cell_type": "code",
   "execution_count": null,
   "id": "66c10c19",
   "metadata": {},
   "outputs": [],
   "source": [
    "sqra_I = np.exp( - beta * V_I(Nd, X) / 2).reshape(bins)\n",
    "  \n",
    "def Q_matmul(v):\n",
    "    \n",
    "    #vec = x * sqra_I\n",
    "    v = v.reshape(bins)\n",
    "    ui = np.empty(Nd, dtype=object)\n",
    "    \n",
    "    for i in range(Nd):\n",
    "        axes = [[1], [i]]\n",
    "        td   = np.tensordot(Qo_i[i].toarray(), v, axes=axes)\n",
    "    \n",
    "        for j in range(i):\n",
    "            td = td.swapaxes(j,j+1)\n",
    "\n",
    "        ui[i] = td\n",
    "    \n",
    "    return np.sum(ui)\n",
    "\n",
    "def tildeQ_matmul(v):\n",
    "    e     = np.ones(bins)\n",
    "    v     = np.reshape(v, bins)\n",
    "    term1 = sqra_I ** -1 * Q_matmul( sqra_I * v )  \n",
    "    term2 = sqra_I ** -1 * Q_matmul( sqra_I * e ) * v\n",
    "    out  = term1 - term2\n",
    "    \n",
    "    return out.flatten('C')\n",
    "\n",
    "# Create the LinearOperator\n",
    "linear_operator = spl.LinearOperator((Nbins, Nbins), matvec=tildeQ_matmul)\n",
    "\n",
    "# Compute eigenvalues and eigenvectors using eigs\n",
    "evals_linO, _ = spl.eigs(linear_operator, k=11, which='LR')\n",
    "evals_linO    = -np.sort(-evals_linO)\n",
    "\n",
    "plt.plot(evals_linO, '.')"
   ]
  },
  {
   "cell_type": "code",
   "execution_count": null,
   "id": "f6d788e7",
   "metadata": {},
   "outputs": [],
   "source": [
    "#np.savetxt('results/evals_Nd_'+str(Nd)+'.txt', np.real(evals_linO))\n",
    "\n",
    "#np.savetxt('results/evecs_Nd_'+str(Nd)+'.txt', np.real(evecs_linO))"
   ]
  }
 ],
 "metadata": {
  "kernelspec": {
   "display_name": "Python 3 (ipykernel)",
   "language": "python",
   "name": "python3"
  },
  "language_info": {
   "codemirror_mode": {
    "name": "ipython",
    "version": 3
   },
   "file_extension": ".py",
   "mimetype": "text/x-python",
   "name": "python",
   "nbconvert_exporter": "python",
   "pygments_lexer": "ipython3",
   "version": "3.8.13"
  }
 },
 "nbformat": 4,
 "nbformat_minor": 5
}
