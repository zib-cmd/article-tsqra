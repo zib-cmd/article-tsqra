{
 "cells": [
  {
   "cell_type": "code",
   "execution_count": 1,
   "id": "12ddfe6b",
   "metadata": {},
   "outputs": [],
   "source": [
    "import numpy as np\n",
    "import scipy \n",
    "import matplotlib.pyplot as plt\n",
    "import matplotlib.cm as cm\n",
    "\n",
    "from tqdm import tqdm\n",
    "from functions_SqRA import grid1, adjancency_matrix_sparse, build_sqra, build_sqra_i\n",
    "from pcca import pcca\n",
    "\n",
    "\n",
    "np.random.seed(0) \n",
    "\n",
    "font = {'size'   : 10}\n",
    "plt.rc('font', **font)\n",
    "in2cm = 1/2.54  # centimeters in inches"
   ]
  },
  {
   "cell_type": "markdown",
   "id": "0e098cd1",
   "metadata": {},
   "source": [
    "## System parameters"
   ]
  },
  {
   "cell_type": "code",
   "execution_count": 2,
   "id": "5f43e9ed",
   "metadata": {},
   "outputs": [],
   "source": [
    "kB     = 0.008314463                 # kJ mol-1 K\n",
    "T      = 300                         # K   \n",
    "mass   = 1                           # amu mol-1\n",
    "gamma  = 1                           # ps-1 \n",
    "D      = kB * T / mass / gamma       # nm2 ps-1\n",
    "sigma  = np.sqrt(2 * D)              # nm ps-1/2\n",
    "beta   = 1 / kB / T                  # kJ-1 mol "
   ]
  },
  {
   "cell_type": "markdown",
   "id": "d12c1c8c",
   "metadata": {},
   "source": [
    "## Potential energy function"
   ]
  },
  {
   "cell_type": "code",
   "execution_count": 3,
   "id": "953ede58",
   "metadata": {},
   "outputs": [],
   "source": [
    "def V_i(x):\n",
    "    return 1*(x**2 - 1) ** 2 \n",
    "\n",
    "def V_ij(x,y):\n",
    "    return 0.5*np.abs(x - y)**2\n",
    "\n",
    "def V_I(N,X):\n",
    "    \n",
    "    v = 0\n",
    "    \n",
    "    for i in range(N-1):\n",
    "        v = v + V_ij(X[i],X[i+1])\n",
    "    return v\n",
    "\n",
    "def V(N, c, X):\n",
    "    \n",
    "    v = 0\n",
    "    \n",
    "    for i in range(N):\n",
    "        v = v + V_i(X[i])\n",
    "        \n",
    "        if i<N-1:\n",
    "            v = v + c * V_ij(X[i],X[i+1])\n",
    "            \n",
    "    return v"
   ]
  },
  {
   "cell_type": "markdown",
   "id": "cadc17ee",
   "metadata": {},
   "source": [
    "## Grid definition"
   ]
  },
  {
   "cell_type": "code",
   "execution_count": 4,
   "id": "c23d81aa",
   "metadata": {},
   "outputs": [
    {
     "name": "stdout",
     "output_type": "stream",
     "text": [
      "Total number of bins:  125\n"
     ]
    }
   ],
   "source": [
    "# Number of springs\n",
    "Nd       = 3\n",
    "\n",
    "Nedges = 6\n",
    "\n",
    "a = 2.5\n",
    "xcenters, xedges, xbins, dx = grid1(-a, a, Nedges)\n",
    "\n",
    "bins = np.array([xbins for i in range(Nd)])\n",
    "DX   = np.array([dx    for i in range(Nd)])\n",
    "\n",
    "grid = np.meshgrid(*[xcenters for i in range(Nd)])\n",
    "X    = np.stack([grid[i] for i in range(Nd)])\n",
    "\n",
    "# Total number of bins\n",
    "Nbins = xbins ** Nd\n",
    "print(\"Total number of bins: \", Nbins)"
   ]
  },
  {
   "cell_type": "markdown",
   "id": "e02e7663",
   "metadata": {},
   "source": [
    "## Unperturbed system\n",
    "#### Build matrix of each subsystem"
   ]
  },
  {
   "cell_type": "code",
   "execution_count": 5,
   "id": "df0a792a",
   "metadata": {},
   "outputs": [],
   "source": [
    "# Stationary distribution\n",
    "pi_i = np.exp(- beta * V_i(xcenters) ) \n",
    "PI = np.array([pi_i for i in range(Nd)]) #, dtype=object \n",
    "\n",
    "## SqRA\n",
    "Q_i, Qo_i =  build_sqra_i(D, PI, DX, bins)\n",
    "\n",
    "# Eigenvalue problem\n",
    "evals_i = np.empty(Nd, dtype=object)\n",
    "\n",
    "for i in range(Nd):\n",
    "    evals_i[i],   _  =  scipy.sparse.linalg.eigs(Q_i[i],  3, which='LR')\n",
    "    evals_i[i] = -np.sort(-evals_i[i])"
   ]
  },
  {
   "cell_type": "markdown",
   "id": "901b5966",
   "metadata": {},
   "source": [
    "#### Build matrix of full system"
   ]
  },
  {
   "cell_type": "code",
   "execution_count": 6,
   "id": "124e4d04",
   "metadata": {},
   "outputs": [],
   "source": [
    "# Coupling coefficient\n",
    "c = 0\n",
    "\n",
    "# Stationary distribution\n",
    "pi0 = np.exp(- beta * V(Nd, c, X).flatten('C') )\n",
    "\n",
    "## SqRA\n",
    "Q, Qo = build_sqra(D, pi0, DX, bins)\n",
    "\n",
    "# Eigenvalue problem\n",
    "evals_c0,    _    = scipy.sparse.linalg.eigs(Q, 6, which='LR')\n",
    "evals_c0 = -np.sort(-evals_c0)"
   ]
  },
  {
   "cell_type": "markdown",
   "id": "b69c7201",
   "metadata": {},
   "source": [
    "## Perturbed system"
   ]
  },
  {
   "cell_type": "code",
   "execution_count": 7,
   "id": "e2b6ec36",
   "metadata": {},
   "outputs": [],
   "source": [
    "# Coupling coefficient\n",
    "c = 1\n",
    "\n",
    "# Stationary distribution\n",
    "pi_c1 = np.exp(- beta * V(Nd, c, X).flatten('C') )\n",
    "\n",
    "## SqRA\n",
    "tildeQ, Qo_c1 = build_sqra(D, pi_c1, DX, bins)\n",
    "\n",
    "# Eigenvalue problem\n",
    "evals_c1,    _    = scipy.sparse.linalg.eigs(tildeQ, 6, which='LR')\n",
    "evals_c1 = -np.sort(-evals_c1)"
   ]
  },
  {
   "cell_type": "markdown",
   "id": "bcf9e66e",
   "metadata": {},
   "source": [
    "## PCCA+"
   ]
  },
  {
   "cell_type": "code",
   "execution_count": 8,
   "id": "04bf2046",
   "metadata": {},
   "outputs": [
    {
     "name": "stdout",
     "output_type": "stream",
     "text": [
      "[[-0.989777  0.989777]\n",
      " [ 0.989777 -0.989777]]\n",
      "[[-0.989777  0.989777]\n",
      " [ 0.989777 -0.989777]]\n",
      "[[-0.989777  0.989777]\n",
      " [ 0.989777 -0.989777]]\n",
      "Optimization terminated successfully.\n",
      "         Current function value: -492.629847\n",
      "         Iterations: 1248\n",
      "         Function evaluations: 2064\n",
      " \n",
      "[[-2.96933101e+00  9.89777003e-01  1.26425221e-15  9.89777003e-01\n",
      "  -9.72145976e-15  9.89777003e-01 -1.47809092e-14 -2.71495142e-15]\n",
      " [ 9.89777003e-01 -2.96933101e+00  9.89777003e-01 -1.29168036e-15\n",
      "   9.89777003e-01 -6.03948278e-15  8.86305440e-15 -1.13099422e-14]\n",
      " [ 4.07302861e-15  9.89777003e-01 -2.96933101e+00  9.89777003e-01\n",
      "  -7.55479600e-15  1.11103173e-14 -1.20349870e-14  9.89777003e-01]\n",
      " [ 9.89777003e-01 -1.53814073e-14  9.89777003e-01 -2.96933101e+00\n",
      "   2.51445037e-15 -2.49579094e-15  9.89777003e-01  8.18928549e-15]\n",
      " [-2.30211226e-15  9.89777003e-01 -3.70984817e-15 -8.40163314e-15\n",
      "  -2.96933101e+00  9.89777003e-01 -8.44993042e-15  9.89777003e-01]\n",
      " [ 9.89777003e-01 -7.89360680e-16 -1.82801957e-15 -8.46169881e-15\n",
      "   9.89777003e-01 -2.96933101e+00  9.89777003e-01 -3.90810856e-15]\n",
      " [-6.28597604e-16  5.96585652e-17 -4.53906850e-15  9.89777003e-01\n",
      "  -8.01950007e-15  9.89777003e-01 -2.96933101e+00  9.89777003e-01]\n",
      " [-2.76416921e-15  7.85971746e-15  9.89777003e-01 -1.21485065e-14\n",
      "   9.89777003e-01 -1.44123962e-14  9.89777003e-01 -2.96933101e+00]]\n",
      " \n",
      "[[-2.72408912e+00  9.18562046e-01  9.24931931e-01 -1.66625621e-02\n",
      "   1.11887989e-01 -1.52403474e-01 -1.45246116e-01  1.08301930e+00]\n",
      " [ 1.28916146e+00 -3.50574594e+00  1.28188385e-02  1.06460074e+00\n",
      "  -2.75428946e-01 -4.55327841e-02  1.17194747e+00  2.88179153e-01]\n",
      " [ 1.28683617e+00  8.01129155e-03 -3.50437630e+00  1.07245101e+00\n",
      "  -2.72821745e-01  1.17933737e+00 -5.25810321e-02  2.83143248e-01]\n",
      " [-6.61678272e-03  1.11045045e+00  1.12754124e+00 -4.43246700e+00\n",
      "   1.65558619e+00  2.23568185e-01  2.57635969e-01  6.43017544e-02]\n",
      " [ 5.87243691e-02 -1.48563083e-01 -1.44133112e-01  1.10061086e+00\n",
      "  -2.75387030e+00  9.57888388e-01  9.59065255e-01 -2.97223791e-02]\n",
      " [-2.88020688e-01 -7.48172294e-02  1.16422774e+00  2.75954892e-01\n",
      "   1.36977622e+00 -3.52550861e+00  2.56882654e-02  1.05269941e+00]\n",
      " [-2.87551943e-01  1.15174829e+00 -6.48049740e-02  2.83157140e-01\n",
      "   1.35648013e+00  2.32342867e-03 -3.48730395e+00  1.04595189e+00]\n",
      " [ 1.70486580e+00  2.59879764e-01  2.73119387e-01  2.61428700e-02\n",
      "  -1.05032517e-01  1.13698932e+00  1.11251263e+00 -4.40847726e+00]]\n"
     ]
    },
    {
     "name": "stderr",
     "output_type": "stream",
     "text": [
      "/home/numerik/ldonati/Nextcloud2/Dokumente/GitHub/article-tsqra/review/optimization.py:37: RuntimeWarning: Maximum number of iterations has been exceeded.\n",
      "  x = fmin(objective, x0=x, args=(X, A), maxiter=maxiter)\n"
     ]
    }
   ],
   "source": [
    "# Rate of individual systems\n",
    "Qc_i  = np.empty(Nd, dtype=object)\n",
    "chi_i = np.empty(Nd, dtype=object)\n",
    "\n",
    "for i in range(Nd):\n",
    "    chi_i, _, _, schurevecs1 = pcca(Q_i[i].toarray(), 2, massmatrix=None)\n",
    "    Qc_i[i] = np.linalg.pinv(chi_i).dot(Q_i[i].toarray().dot(chi_i))\n",
    "    print(Qc_i[i])\n",
    "    \n",
    "# Uncouled system\n",
    "chi, e, S, tildeSchurevecs = pcca(Q, 2**Nd, massmatrix=None)\n",
    "Qc = np.linalg.pinv(chi).dot(Q.dot(chi))\n",
    "\n",
    "print(\" \")\n",
    "print(Qc)\n",
    "\n",
    "# Perturbed system\n",
    "tildeChi, tildee, tildeS, tildeSchurevecs = pcca(tildeQ, 2**Nd, massmatrix=None)\n",
    "tildeQc = np.linalg.pinv(tildeChi).dot(tildeQ.dot(tildeChi))\n",
    "\n",
    "print(\" \")\n",
    "print(tildeQc)"
   ]
  },
  {
   "cell_type": "markdown",
   "id": "5cf59ca5",
   "metadata": {},
   "source": [
    "## Discretized Koopman operator"
   ]
  },
  {
   "cell_type": "code",
   "execution_count": 9,
   "id": "86a6a26c",
   "metadata": {},
   "outputs": [],
   "source": [
    "# Calculate approximated Qc\n",
    "KTAU = np.array([0.1,1,2,5, 10, 15])*0.1\n",
    "\n",
    "\n",
    "rates = np.zeros((2**Nd,2**Nd,len(KTAU)))\n",
    "\n",
    "for k,t in enumerate(KTAU):\n",
    "    \n",
    "    # Use the full matrix  \n",
    "    \n",
    "    \n",
    "    tildeK = scipy.linalg.expm(tildeQ * t)\n",
    "    #tildeK = tildeQ * t + np.diag(np.ones(Nbins))\n",
    "    chi1  = np.matmul(tildeK, chi)\n",
    "    M     = np.linalg.lstsq(chi1, chi, rcond=-1)[0]\n",
    "    hatQc = scipy.linalg.logm(np.linalg.inv(M)) / t\n",
    "    rates[:,:,k] = hatQc"
   ]
  },
  {
   "cell_type": "code",
   "execution_count": 10,
   "id": "e9ba81d1",
   "metadata": {},
   "outputs": [
    {
     "data": {
      "text/plain": [
       "[<matplotlib.lines.Line2D at 0x7fe17a078a30>,\n",
       " <matplotlib.lines.Line2D at 0x7fe17a078af0>,\n",
       " <matplotlib.lines.Line2D at 0x7fe17a078c40>,\n",
       " <matplotlib.lines.Line2D at 0x7fe17a078d60>,\n",
       " <matplotlib.lines.Line2D at 0x7fe17a078e80>,\n",
       " <matplotlib.lines.Line2D at 0x7fe17a078fa0>,\n",
       " <matplotlib.lines.Line2D at 0x7fe17a083100>,\n",
       " <matplotlib.lines.Line2D at 0x7fe17a083220>]"
      ]
     },
     "execution_count": 10,
     "metadata": {},
     "output_type": "execute_result"
    },
    {
     "data": {
      "image/png": "[encoded data removed]",
      "text/plain": [
       "<Figure size 432x288 with 1 Axes>"
      ]
     },
     "metadata": {
      "needs_background": "light"
     },
     "output_type": "display_data"
    }
   ],
   "source": [
    "plt.plot(rates[:,:,-1],'bo')\n",
    "plt.plot(tildeQc,'rs')"
   ]
  },
  {
   "cell_type": "code",
   "execution_count": 11,
   "id": "a72bc3f8",
   "metadata": {},
   "outputs": [
    {
     "data": {
      "image/png": "[encoded data removed]",
      "text/plain": [
       "<Figure size 432x288 with 1 Axes>"
      ]
     },
     "metadata": {
      "needs_background": "light"
     },
     "output_type": "display_data"
    }
   ],
   "source": [
    "a = 6\n",
    "b = 6\n",
    "\n",
    "\n",
    "for i in range(8):\n",
    "    plt.plot(KTAU, rates[i,i,:], 'b')\n",
    "    plt.plot([KTAU[0], KTAU[-1]], [tildeQc[i,i], tildeQc[i,i]], 'r')\n",
    "#plt.ylim(-2,2)"
   ]
  }
 ],
 "metadata": {
  "kernelspec": {
   "display_name": "Python 3 (ipykernel)",
   "language": "python",
   "name": "python3"
  },
  "language_info": {
   "codemirror_mode": {
    "name": "ipython",
    "version": 3
   },
   "file_extension": ".py",
   "mimetype": "text/x-python",
   "name": "python",
   "nbconvert_exporter": "python",
   "pygments_lexer": "ipython3",
   "version": "3.9.13"
  }
 },
 "nbformat": 4,
 "nbformat_minor": 5
}
