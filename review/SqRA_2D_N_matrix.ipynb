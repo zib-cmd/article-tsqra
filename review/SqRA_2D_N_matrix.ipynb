{
 "cells": [
  {
   "cell_type": "code",
   "execution_count": 1,
   "id": "12ddfe6b",
   "metadata": {},
   "outputs": [],
   "source": [
    "import numpy as np\n",
    "import scipy \n",
    "import matplotlib.pyplot as plt\n",
    "import matplotlib.cm as cm\n",
    "\n",
    "from tqdm import tqdm\n",
    "from functions_SqRA import grid1, adjancency_matrix_sparse, build_sqra, build_sqra_i\n",
    "from pcca import pcca\n",
    "\n",
    "\n",
    "np.random.seed(0) \n",
    "\n",
    "font = {'size'   : 10}\n",
    "plt.rc('font', **font)\n",
    "in2cm = 1/2.54  # centimeters in inches"
   ]
  },
  {
   "cell_type": "markdown",
   "id": "0e098cd1",
   "metadata": {},
   "source": [
    "## System parameters"
   ]
  },
  {
   "cell_type": "code",
   "execution_count": 2,
   "id": "5f43e9ed",
   "metadata": {},
   "outputs": [],
   "source": [
    "kB     = 0.008314463                 # kJ mol-1 K\n",
    "T      = 300                         # K   \n",
    "mass   = 1                           # amu mol-1\n",
    "gamma  = 1                           # ps-1 \n",
    "D      = kB * T / mass / gamma       # nm2 ps-1\n",
    "sigma  = np.sqrt(2 * D)              # nm ps-1/2\n",
    "beta   = 1 / kB / T                  # kJ-1 mol "
   ]
  },
  {
   "cell_type": "markdown",
   "id": "d12c1c8c",
   "metadata": {},
   "source": [
    "## Potential energy function"
   ]
  },
  {
   "cell_type": "code",
   "execution_count": 3,
   "id": "953ede58",
   "metadata": {},
   "outputs": [],
   "source": [
    "def V_i(x):\n",
    "    return 1*(x**2 - 1) ** 2 \n",
    "\n",
    "def V_ij(x,y):\n",
    "    return 0.5*np.abs(x - y)**2\n",
    "\n",
    "def V_I(N,X):\n",
    "    \n",
    "    v = 0\n",
    "    \n",
    "    for i in range(N-1):\n",
    "        v = v + V_ij(X[i],X[i+1])\n",
    "    return v\n",
    "\n",
    "def V(N, c, X):\n",
    "    \n",
    "    v = 0\n",
    "    \n",
    "    for i in range(N):\n",
    "        v = v + V_i(X[i])\n",
    "        \n",
    "        if i<N-1:\n",
    "            v = v + c * V_ij(X[i],X[i+1])\n",
    "            \n",
    "    return v"
   ]
  },
  {
   "cell_type": "markdown",
   "id": "cadc17ee",
   "metadata": {},
   "source": [
    "## Grid definition"
   ]
  },
  {
   "cell_type": "code",
   "execution_count": 4,
   "id": "c23d81aa",
   "metadata": {},
   "outputs": [
    {
     "name": "stdout",
     "output_type": "stream",
     "text": [
      "Total number of bins:  125\n"
     ]
    }
   ],
   "source": [
    "# Number of springs\n",
    "Nd       = 3\n",
    "\n",
    "Nedges = 6\n",
    "\n",
    "a = 2.5\n",
    "xcenters, xedges, xbins, dx = grid1(-a, a, Nedges)\n",
    "\n",
    "bins = np.array([xbins for i in range(Nd)])\n",
    "DX   = np.array([dx    for i in range(Nd)])\n",
    "\n",
    "grid = np.meshgrid(*[xcenters for i in range(Nd)])\n",
    "X    = np.stack([grid[i] for i in range(Nd)])\n",
    "\n",
    "# Total number of bins\n",
    "Nbins = xbins ** Nd\n",
    "print(\"Total number of bins: \", Nbins)"
   ]
  },
  {
   "cell_type": "markdown",
   "id": "e02e7663",
   "metadata": {},
   "source": [
    "## Unperturbed system\n",
    "#### Build matrix of each subsystem"
   ]
  },
  {
   "cell_type": "code",
   "execution_count": 5,
   "id": "df0a792a",
   "metadata": {},
   "outputs": [],
   "source": [
    "# Stationary distribution\n",
    "pi_i = np.exp(- beta * V_i(xcenters) ) \n",
    "PI = np.array([pi_i for i in range(Nd)]) #, dtype=object \n",
    "\n",
    "## SqRA\n",
    "Q_i, Qo_i =  build_sqra_i(D, PI, DX, bins)\n",
    "\n",
    "# Eigenvalue problem\n",
    "evals_i = np.empty(Nd, dtype=object)\n",
    "\n",
    "for i in range(Nd):\n",
    "    evals_i[i],   _  =  scipy.sparse.linalg.eigs(Q_i[i],  3, which='LR')\n",
    "    evals_i[i] = -np.sort(-evals_i[i])"
   ]
  },
  {
   "cell_type": "markdown",
   "id": "901b5966",
   "metadata": {},
   "source": [
    "#### Build matrix of full system"
   ]
  },
  {
   "cell_type": "code",
   "execution_count": 6,
   "id": "124e4d04",
   "metadata": {},
   "outputs": [],
   "source": [
    "# Coupling coefficient\n",
    "c = 0\n",
    "\n",
    "# Stationary distribution\n",
    "pi0 = np.exp(- beta * V(Nd, c, X).flatten('C') )\n",
    "\n",
    "## SqRA\n",
    "Q, Qo = build_sqra(D, pi0, DX, bins)\n",
    "\n",
    "# Eigenvalue problem\n",
    "evals_c0,    _    = scipy.sparse.linalg.eigs(Q, 6, which='LR')\n",
    "evals_c0 = -np.sort(-evals_c0)"
   ]
  },
  {
   "cell_type": "markdown",
   "id": "b69c7201",
   "metadata": {},
   "source": [
    "## Perturbed system"
   ]
  },
  {
   "cell_type": "code",
   "execution_count": 7,
   "id": "e2b6ec36",
   "metadata": {},
   "outputs": [],
   "source": [
    "# Coupling coefficient\n",
    "c = 1\n",
    "\n",
    "# Stationary distribution\n",
    "pi_c1 = np.exp(- beta * V(Nd, c, X).flatten('C') )\n",
    "\n",
    "## SqRA\n",
    "tildeQ, Qo_c1 = build_sqra(D, pi_c1, DX, bins)\n",
    "\n",
    "# Eigenvalue problem\n",
    "evals_c1,    _    = scipy.sparse.linalg.eigs(tildeQ, 6, which='LR')\n",
    "evals_c1 = -np.sort(-evals_c1)"
   ]
  },
  {
   "cell_type": "markdown",
   "id": "bcf9e66e",
   "metadata": {},
   "source": [
    "## PCCA+"
   ]
  },
  {
   "cell_type": "code",
   "execution_count": 8,
   "id": "04bf2046",
   "metadata": {},
   "outputs": [
    {
     "name": "stdout",
     "output_type": "stream",
     "text": [
      "[[-0.989777  0.989777]\n",
      " [ 0.989777 -0.989777]]\n",
      "[[-0.989777  0.989777]\n",
      " [ 0.989777 -0.989777]]\n",
      "[[-0.989777  0.989777]\n",
      " [ 0.989777 -0.989777]]\n",
      "Optimization terminated successfully.\n",
      "         Current function value: -492.629847\n",
      "         Iterations: 1248\n",
      "         Function evaluations: 2064\n",
      " \n",
      "[[-2.96933101e+00  9.89777003e-01  1.26425221e-15  9.89777003e-01\n",
      "  -9.72145976e-15  9.89777003e-01 -1.47809092e-14 -2.71495142e-15]\n",
      " [ 9.89777003e-01 -2.96933101e+00  9.89777003e-01 -1.29168036e-15\n",
      "   9.89777003e-01 -6.03948278e-15  8.86305440e-15 -1.13099422e-14]\n",
      " [ 4.07302861e-15  9.89777003e-01 -2.96933101e+00  9.89777003e-01\n",
      "  -7.55479600e-15  1.11103173e-14 -1.20349870e-14  9.89777003e-01]\n",
      " [ 9.89777003e-01 -1.53814073e-14  9.89777003e-01 -2.96933101e+00\n",
      "   2.51445037e-15 -2.49579094e-15  9.89777003e-01  8.18928549e-15]\n",
      " [-2.30211226e-15  9.89777003e-01 -3.70984817e-15 -8.40163314e-15\n",
      "  -2.96933101e+00  9.89777003e-01 -8.44993042e-15  9.89777003e-01]\n",
      " [ 9.89777003e-01 -7.89360680e-16 -1.82801957e-15 -8.46169881e-15\n",
      "   9.89777003e-01 -2.96933101e+00  9.89777003e-01 -3.90810856e-15]\n",
      " [-6.28597604e-16  5.96585652e-17 -4.53906850e-15  9.89777003e-01\n",
      "  -8.01950007e-15  9.89777003e-01 -2.96933101e+00  9.89777003e-01]\n",
      " [-2.76416921e-15  7.85971746e-15  9.89777003e-01 -1.21485065e-14\n",
      "   9.89777003e-01 -1.44123962e-14  9.89777003e-01 -2.96933101e+00]]\n",
      " \n",
      "[[-2.72408912e+00  9.18562046e-01  9.24931931e-01 -1.66625621e-02\n",
      "   1.11887989e-01 -1.52403474e-01 -1.45246116e-01  1.08301930e+00]\n",
      " [ 1.28916146e+00 -3.50574594e+00  1.28188385e-02  1.06460074e+00\n",
      "  -2.75428946e-01 -4.55327841e-02  1.17194747e+00  2.88179153e-01]\n",
      " [ 1.28683617e+00  8.01129155e-03 -3.50437630e+00  1.07245101e+00\n",
      "  -2.72821745e-01  1.17933737e+00 -5.25810321e-02  2.83143248e-01]\n",
      " [-6.61678272e-03  1.11045045e+00  1.12754124e+00 -4.43246700e+00\n",
      "   1.65558619e+00  2.23568185e-01  2.57635969e-01  6.43017544e-02]\n",
      " [ 5.87243691e-02 -1.48563083e-01 -1.44133112e-01  1.10061086e+00\n",
      "  -2.75387030e+00  9.57888388e-01  9.59065255e-01 -2.97223791e-02]\n",
      " [-2.88020688e-01 -7.48172294e-02  1.16422774e+00  2.75954892e-01\n",
      "   1.36977622e+00 -3.52550861e+00  2.56882654e-02  1.05269941e+00]\n",
      " [-2.87551943e-01  1.15174829e+00 -6.48049740e-02  2.83157140e-01\n",
      "   1.35648013e+00  2.32342867e-03 -3.48730395e+00  1.04595189e+00]\n",
      " [ 1.70486580e+00  2.59879764e-01  2.73119387e-01  2.61428700e-02\n",
      "  -1.05032517e-01  1.13698932e+00  1.11251263e+00 -4.40847726e+00]]\n"
     ]
    },
    {
     "name": "stderr",
     "output_type": "stream",
     "text": [
      "/home/numerik/ldonati/Nextcloud2/Dokumente/Projects/Decompositional_methods/springs_1d/PRE/optimization.py:37: RuntimeWarning: Maximum number of iterations has been exceeded.\n",
      "  x = fmin(objective, x0=x, args=(X, A), maxiter=maxiter)\n"
     ]
    }
   ],
   "source": [
    "# Rate of individual systems\n",
    "Qc_i  = np.empty(Nd, dtype=object)\n",
    "chi_i = np.empty(Nd, dtype=object)\n",
    "\n",
    "for i in range(Nd):\n",
    "    chi_i, _, _, schurevecs1 = pcca(Q_i[i].toarray(), 2, massmatrix=None)\n",
    "    Qc_i[i] = np.linalg.pinv(chi_i).dot(Q_i[i].toarray().dot(chi_i))\n",
    "    print(Qc_i[i])\n",
    "    \n",
    "# Uncouled system\n",
    "chi, e, S, tildeSchurevecs = pcca(Q, 2**Nd, massmatrix=None)\n",
    "Qc = np.linalg.pinv(chi).dot(Q.dot(chi))\n",
    "\n",
    "print(\" \")\n",
    "print(Qc)\n",
    "\n",
    "# Perturbed system\n",
    "tildeChi, tildee, tildeS, tildeSchurevecs = pcca(tildeQ, 2**Nd, massmatrix=None)\n",
    "tildeQc = np.linalg.pinv(tildeChi).dot(tildeQ.dot(tildeChi))\n",
    "\n",
    "print(\" \")\n",
    "print(tildeQc)"
   ]
  },
  {
   "cell_type": "markdown",
   "id": "5cf59ca5",
   "metadata": {},
   "source": [
    "## Discretized Koopman operator"
   ]
  },
  {
   "cell_type": "code",
   "execution_count": 9,
   "id": "86a6a26c",
   "metadata": {},
   "outputs": [],
   "source": [
    "# Calculate approximated Qc\n",
    "KTAU = np.array([0.1,1,2,5, 10, 15])*0.1\n",
    "\n",
    "\n",
    "rates = np.zeros((2**Nd,2**Nd,len(KTAU)))\n",
    "\n",
    "for k,t in enumerate(KTAU):\n",
    "    \n",
    "    # Use the full matrix  \n",
    "    \n",
    "    \n",
    "    tildeK = scipy.linalg.expm(tildeQ * t)\n",
    "    #tildeK = tildeQ * t + np.diag(np.ones(Nbins))\n",
    "    chi1  = np.matmul(tildeK, chi)\n",
    "    M     = np.linalg.lstsq(chi1, chi, rcond=-1)[0]\n",
    "    hatQc = scipy.linalg.logm(np.linalg.inv(M)) / t\n",
    "    rates[:,:,k] = hatQc"
   ]
  },
  {
   "cell_type": "code",
   "execution_count": 10,
   "id": "e9ba81d1",
   "metadata": {},
   "outputs": [
    {
     "data": {
      "text/plain": [
       "[<matplotlib.lines.Line2D at 0x7f14fc17ff40>,\n",
       " <matplotlib.lines.Line2D at 0x7f14fc18f040>,\n",
       " <matplotlib.lines.Line2D at 0x7f14fc18f190>,\n",
       " <matplotlib.lines.Line2D at 0x7f14fc18f2b0>,\n",
       " <matplotlib.lines.Line2D at 0x7f14fc18f3d0>,\n",
       " <matplotlib.lines.Line2D at 0x7f14fc18f4f0>,\n",
       " <matplotlib.lines.Line2D at 0x7f14fc18f610>,\n",
       " <matplotlib.lines.Line2D at 0x7f14fc18f730>]"
      ]
     },
     "execution_count": 10,
     "metadata": {},
     "output_type": "execute_result"
    },
    {
     "data": {
      "image/png": "[encoded data removed]",
      "text/plain": [
       "<Figure size 432x288 with 1 Axes>"
      ]
     },
     "metadata": {
      "needs_background": "light"
     },
     "output_type": "display_data"
    }
   ],
   "source": [
    "plt.plot(rates[:,:,-1],'bo')\n",
    "plt.plot(tildeQc,'rs')"
   ]
  },
  {
   "cell_type": "code",
   "execution_count": 21,
   "id": "a72bc3f8",
   "metadata": {},
   "outputs": [
    {
     "data": {
      "image/png": "[encoded data removed]",
      "text/plain": [
       "<Figure size 432x288 with 1 Axes>"
      ]
     },
     "metadata": {
      "needs_background": "light"
     },
     "output_type": "display_data"
    }
   ],
   "source": [
    "a = 6\n",
    "b = 6\n",
    "\n",
    "\n",
    "for i in range(8):\n",
    "    plt.plot(KTAU, rates[i,i,:], 'b')\n",
    "    plt.plot([KTAU[0], KTAU[-1]], [tildeQc[i,i], tildeQc[i,i]], 'r')\n",
    "#plt.ylim(-2,2)"
   ]
  },
  {
   "cell_type": "code",
   "execution_count": 12,
   "id": "a19a5af7",
   "metadata": {},
   "outputs": [],
   "source": [
    "sqra_I = np.exp( - beta * V_I(Nd, X) / 2).reshape(bins)\n",
    "  \n",
    "def Q_matmul(v):\n",
    "    \n",
    "    #vec = x * sqra_I\n",
    "    v = v.reshape(bins)\n",
    "    ui = np.empty(Nd, dtype=object)\n",
    "    \n",
    "    for i in range(Nd):\n",
    "        axes = [[1], [i]]\n",
    "        td   = np.tensordot(Qo_i[i].toarray(), v, axes=axes)\n",
    "    \n",
    "        for j in range(i):\n",
    "            td = td.swapaxes(j,j+1)\n",
    "\n",
    "        ui[i] = td\n",
    "    \n",
    "    return np.sum(ui)\n",
    "\n",
    "def tildeQ_matmul(v):\n",
    "    e     = np.ones(bins)\n",
    "    v     = np.reshape(v, bins)\n",
    "    term1 = sqra_I ** -1 * Q_matmul( sqra_I * v )  \n",
    "    term2 = sqra_I ** -1 * Q_matmul( sqra_I * e ) * v\n",
    "    out  = term1 - term2\n",
    "    \n",
    "    return out.flatten('C')"
   ]
  },
  {
   "cell_type": "code",
   "execution_count": 14,
   "id": "0ef98848",
   "metadata": {
    "scrolled": false
   },
   "outputs": [
    {
     "name": "stderr",
     "output_type": "stream",
     "text": [
      "/tmp/ipykernel_889575/2383901055.py:7: UserWarning: Trace of LinearOperator not available, it will be estimated. Provide `traceA` to ensure performance.\n",
      "  scipy.sparse.linalg.expm_multiply(linear_operator, chi[:,0])\n"
     ]
    },
    {
     "ename": "TypeError",
     "evalue": "'NoneType' object is not callable",
     "output_type": "error",
     "traceback": [
      "\u001b[0;31m---------------------------------------------------------------------------\u001b[0m",
      "\u001b[0;31mTypeError\u001b[0m                                 Traceback (most recent call last)",
      "Input \u001b[0;32mIn [14]\u001b[0m, in \u001b[0;36m<cell line: 7>\u001b[0;34m()\u001b[0m\n\u001b[1;32m      3\u001b[0m \u001b[38;5;66;03m# Create the LinearOperator\u001b[39;00m\n\u001b[1;32m      4\u001b[0m linear_operator \u001b[38;5;241m=\u001b[39m spl\u001b[38;5;241m.\u001b[39mLinearOperator((Nbins, Nbins), matvec\u001b[38;5;241m=\u001b[39mQ_matmul)\n\u001b[0;32m----> 7\u001b[0m \u001b[43mscipy\u001b[49m\u001b[38;5;241;43m.\u001b[39;49m\u001b[43msparse\u001b[49m\u001b[38;5;241;43m.\u001b[39;49m\u001b[43mlinalg\u001b[49m\u001b[38;5;241;43m.\u001b[39;49m\u001b[43mexpm_multiply\u001b[49m\u001b[43m(\u001b[49m\u001b[43mlinear_operator\u001b[49m\u001b[43m,\u001b[49m\u001b[43m \u001b[49m\u001b[43mchi\u001b[49m\u001b[43m[\u001b[49m\u001b[43m:\u001b[49m\u001b[43m,\u001b[49m\u001b[38;5;241;43m0\u001b[39;49m\u001b[43m]\u001b[49m\u001b[43m)\u001b[49m\n",
      "File \u001b[0;32m/scratch/htc/ldonati/anaconda3/envs/emma/lib/python3.9/site-packages/scipy/sparse/linalg/_expm_multiply.py:207\u001b[0m, in \u001b[0;36mexpm_multiply\u001b[0;34m(A, B, start, stop, num, endpoint, traceA)\u001b[0m\n\u001b[1;32m    111\u001b[0m \u001b[38;5;124;03m\"\"\"\u001b[39;00m\n\u001b[1;32m    112\u001b[0m \u001b[38;5;124;03mCompute the action of the matrix exponential of A on B.\u001b[39;00m\n\u001b[1;32m    113\u001b[0m \n\u001b[0;32m   (...)\u001b[0m\n\u001b[1;32m    204\u001b[0m \u001b[38;5;124;03marray([ 2.71828183,  1.        ])\u001b[39;00m\n\u001b[1;32m    205\u001b[0m \u001b[38;5;124;03m\"\"\"\u001b[39;00m\n\u001b[1;32m    206\u001b[0m \u001b[38;5;28;01mif\u001b[39;00m \u001b[38;5;28mall\u001b[39m(arg \u001b[38;5;129;01mis\u001b[39;00m \u001b[38;5;28;01mNone\u001b[39;00m \u001b[38;5;28;01mfor\u001b[39;00m arg \u001b[38;5;129;01min\u001b[39;00m (start, stop, num, endpoint)):\n\u001b[0;32m--> 207\u001b[0m     X \u001b[38;5;241m=\u001b[39m \u001b[43m_expm_multiply_simple\u001b[49m\u001b[43m(\u001b[49m\u001b[43mA\u001b[49m\u001b[43m,\u001b[49m\u001b[43m \u001b[49m\u001b[43mB\u001b[49m\u001b[43m,\u001b[49m\u001b[43m \u001b[49m\u001b[43mtraceA\u001b[49m\u001b[38;5;241;43m=\u001b[39;49m\u001b[43mtraceA\u001b[49m\u001b[43m)\u001b[49m\n\u001b[1;32m    208\u001b[0m \u001b[38;5;28;01melse\u001b[39;00m:\n\u001b[1;32m    209\u001b[0m     X, status \u001b[38;5;241m=\u001b[39m _expm_multiply_interval(A, B, start, stop, num,\n\u001b[1;32m    210\u001b[0m                                         endpoint, traceA\u001b[38;5;241m=\u001b[39mtraceA)\n",
      "File \u001b[0;32m/scratch/htc/ldonati/anaconda3/envs/emma/lib/python3.9/site-packages/scipy/sparse/linalg/_expm_multiply.py:270\u001b[0m, in \u001b[0;36m_expm_multiply_simple\u001b[0;34m(A, B, t, traceA, balance)\u001b[0m\n\u001b[1;32m    268\u001b[0m mu \u001b[38;5;241m=\u001b[39m traceA \u001b[38;5;241m/\u001b[39m \u001b[38;5;28mfloat\u001b[39m(n)\n\u001b[1;32m    269\u001b[0m A \u001b[38;5;241m=\u001b[39m A \u001b[38;5;241m-\u001b[39m mu \u001b[38;5;241m*\u001b[39m ident\n\u001b[0;32m--> 270\u001b[0m A_1_norm \u001b[38;5;241m=\u001b[39m \u001b[43monenormest\u001b[49m\u001b[43m(\u001b[49m\u001b[43mA\u001b[49m\u001b[43m)\u001b[49m \u001b[38;5;28;01mif\u001b[39;00m is_linear_operator \u001b[38;5;28;01melse\u001b[39;00m _exact_1_norm(A)\n\u001b[1;32m    271\u001b[0m \u001b[38;5;28;01mif\u001b[39;00m t\u001b[38;5;241m*\u001b[39mA_1_norm \u001b[38;5;241m==\u001b[39m \u001b[38;5;241m0\u001b[39m:\n\u001b[1;32m    272\u001b[0m     m_star, s \u001b[38;5;241m=\u001b[39m \u001b[38;5;241m0\u001b[39m, \u001b[38;5;241m1\u001b[39m\n",
      "File \u001b[0;32m/scratch/htc/ldonati/anaconda3/envs/emma/lib/python3.9/site-packages/scipy/sparse/linalg/_onenormest.py:107\u001b[0m, in \u001b[0;36monenormest\u001b[0;34m(A, t, itmax, compute_v, compute_w)\u001b[0m\n\u001b[1;32m    105\u001b[0m     est \u001b[38;5;241m=\u001b[39m col_abs_sums[argmax_j]\n\u001b[1;32m    106\u001b[0m \u001b[38;5;28;01melse\u001b[39;00m:\n\u001b[0;32m--> 107\u001b[0m     est, v, w, nmults, nresamples \u001b[38;5;241m=\u001b[39m \u001b[43m_onenormest_core\u001b[49m\u001b[43m(\u001b[49m\u001b[43mA\u001b[49m\u001b[43m,\u001b[49m\u001b[43m \u001b[49m\u001b[43mA\u001b[49m\u001b[38;5;241;43m.\u001b[39;49m\u001b[43mH\u001b[49m\u001b[43m,\u001b[49m\u001b[43m \u001b[49m\u001b[43mt\u001b[49m\u001b[43m,\u001b[49m\u001b[43m \u001b[49m\u001b[43mitmax\u001b[49m\u001b[43m)\u001b[49m\n\u001b[1;32m    109\u001b[0m \u001b[38;5;66;03m# Report the norm estimate along with some certificates of the estimate.\u001b[39;00m\n\u001b[1;32m    110\u001b[0m \u001b[38;5;28;01mif\u001b[39;00m compute_v \u001b[38;5;129;01mor\u001b[39;00m compute_w:\n",
      "File \u001b[0;32m/scratch/htc/ldonati/anaconda3/envs/emma/lib/python3.9/site-packages/scipy/sparse/linalg/_onenormest.py:436\u001b[0m, in \u001b[0;36m_onenormest_core\u001b[0;34m(A, AT, t, itmax)\u001b[0m\n\u001b[1;32m    434\u001b[0m \u001b[38;5;28;01mdel\u001b[39;00m S_old\n\u001b[1;32m    435\u001b[0m \u001b[38;5;66;03m# (3)\u001b[39;00m\n\u001b[0;32m--> 436\u001b[0m Z \u001b[38;5;241m=\u001b[39m np\u001b[38;5;241m.\u001b[39masarray(\u001b[43mAT_linear_operator\u001b[49m\u001b[38;5;241;43m.\u001b[39;49m\u001b[43mmatmat\u001b[49m\u001b[43m(\u001b[49m\u001b[43mS\u001b[49m\u001b[43m)\u001b[49m)\n\u001b[1;32m    437\u001b[0m nmults \u001b[38;5;241m+\u001b[39m\u001b[38;5;241m=\u001b[39m \u001b[38;5;241m1\u001b[39m\n\u001b[1;32m    438\u001b[0m h \u001b[38;5;241m=\u001b[39m _max_abs_axis1(Z)\n",
      "File \u001b[0;32m/scratch/htc/ldonati/anaconda3/envs/emma/lib/python3.9/site-packages/scipy/sparse/linalg/_interface.py:338\u001b[0m, in \u001b[0;36mLinearOperator.matmat\u001b[0;34m(self, X)\u001b[0m\n\u001b[1;32m    335\u001b[0m     \u001b[38;5;28;01mraise\u001b[39;00m \u001b[38;5;167;01mValueError\u001b[39;00m(\u001b[38;5;124mf\u001b[39m\u001b[38;5;124m'\u001b[39m\u001b[38;5;124mdimension mismatch: \u001b[39m\u001b[38;5;132;01m{\u001b[39;00m\u001b[38;5;28mself\u001b[39m\u001b[38;5;241m.\u001b[39mshape\u001b[38;5;132;01m}\u001b[39;00m\u001b[38;5;124m, \u001b[39m\u001b[38;5;132;01m{\u001b[39;00mX\u001b[38;5;241m.\u001b[39mshape\u001b[38;5;132;01m}\u001b[39;00m\u001b[38;5;124m'\u001b[39m)\n\u001b[1;32m    337\u001b[0m \u001b[38;5;28;01mtry\u001b[39;00m:\n\u001b[0;32m--> 338\u001b[0m     Y \u001b[38;5;241m=\u001b[39m \u001b[38;5;28;43mself\u001b[39;49m\u001b[38;5;241;43m.\u001b[39;49m\u001b[43m_matmat\u001b[49m\u001b[43m(\u001b[49m\u001b[43mX\u001b[49m\u001b[43m)\u001b[49m\n\u001b[1;32m    339\u001b[0m \u001b[38;5;28;01mexcept\u001b[39;00m \u001b[38;5;167;01mException\u001b[39;00m \u001b[38;5;28;01mas\u001b[39;00m e:\n\u001b[1;32m    340\u001b[0m     \u001b[38;5;28;01mif\u001b[39;00m issparse(X) \u001b[38;5;129;01mor\u001b[39;00m is_pydata_spmatrix(X):\n",
      "File \u001b[0;32m/scratch/htc/ldonati/anaconda3/envs/emma/lib/python3.9/site-packages/scipy/sparse/linalg/_interface.py:687\u001b[0m, in \u001b[0;36m_SumLinearOperator._matmat\u001b[0;34m(self, x)\u001b[0m\n\u001b[1;32m    686\u001b[0m \u001b[38;5;28;01mdef\u001b[39;00m \u001b[38;5;21m_matmat\u001b[39m(\u001b[38;5;28mself\u001b[39m, x):\n\u001b[0;32m--> 687\u001b[0m     \u001b[38;5;28;01mreturn\u001b[39;00m \u001b[38;5;28;43mself\u001b[39;49m\u001b[38;5;241;43m.\u001b[39;49m\u001b[43margs\u001b[49m\u001b[43m[\u001b[49m\u001b[38;5;241;43m0\u001b[39;49m\u001b[43m]\u001b[49m\u001b[38;5;241;43m.\u001b[39;49m\u001b[43mmatmat\u001b[49m\u001b[43m(\u001b[49m\u001b[43mx\u001b[49m\u001b[43m)\u001b[49m \u001b[38;5;241m+\u001b[39m \u001b[38;5;28mself\u001b[39m\u001b[38;5;241m.\u001b[39margs[\u001b[38;5;241m1\u001b[39m]\u001b[38;5;241m.\u001b[39mmatmat(x)\n",
      "File \u001b[0;32m/scratch/htc/ldonati/anaconda3/envs/emma/lib/python3.9/site-packages/scipy/sparse/linalg/_interface.py:338\u001b[0m, in \u001b[0;36mLinearOperator.matmat\u001b[0;34m(self, X)\u001b[0m\n\u001b[1;32m    335\u001b[0m     \u001b[38;5;28;01mraise\u001b[39;00m \u001b[38;5;167;01mValueError\u001b[39;00m(\u001b[38;5;124mf\u001b[39m\u001b[38;5;124m'\u001b[39m\u001b[38;5;124mdimension mismatch: \u001b[39m\u001b[38;5;132;01m{\u001b[39;00m\u001b[38;5;28mself\u001b[39m\u001b[38;5;241m.\u001b[39mshape\u001b[38;5;132;01m}\u001b[39;00m\u001b[38;5;124m, \u001b[39m\u001b[38;5;132;01m{\u001b[39;00mX\u001b[38;5;241m.\u001b[39mshape\u001b[38;5;132;01m}\u001b[39;00m\u001b[38;5;124m'\u001b[39m)\n\u001b[1;32m    337\u001b[0m \u001b[38;5;28;01mtry\u001b[39;00m:\n\u001b[0;32m--> 338\u001b[0m     Y \u001b[38;5;241m=\u001b[39m \u001b[38;5;28;43mself\u001b[39;49m\u001b[38;5;241;43m.\u001b[39;49m\u001b[43m_matmat\u001b[49m\u001b[43m(\u001b[49m\u001b[43mX\u001b[49m\u001b[43m)\u001b[49m\n\u001b[1;32m    339\u001b[0m \u001b[38;5;28;01mexcept\u001b[39;00m \u001b[38;5;167;01mException\u001b[39;00m \u001b[38;5;28;01mas\u001b[39;00m e:\n\u001b[1;32m    340\u001b[0m     \u001b[38;5;28;01mif\u001b[39;00m issparse(X) \u001b[38;5;129;01mor\u001b[39;00m is_pydata_spmatrix(X):\n",
      "File \u001b[0;32m/scratch/htc/ldonati/anaconda3/envs/emma/lib/python3.9/site-packages/scipy/sparse/linalg/_interface.py:588\u001b[0m, in \u001b[0;36m_CustomLinearOperator._matmat\u001b[0;34m(self, X)\u001b[0m\n\u001b[1;32m    586\u001b[0m     \u001b[38;5;28;01mreturn\u001b[39;00m \u001b[38;5;28mself\u001b[39m\u001b[38;5;241m.\u001b[39m__matmat_impl(X)\n\u001b[1;32m    587\u001b[0m \u001b[38;5;28;01melse\u001b[39;00m:\n\u001b[0;32m--> 588\u001b[0m     \u001b[38;5;28;01mreturn\u001b[39;00m \u001b[38;5;28;43msuper\u001b[39;49m\u001b[43m(\u001b[49m\u001b[43m)\u001b[49m\u001b[38;5;241;43m.\u001b[39;49m\u001b[43m_matmat\u001b[49m\u001b[43m(\u001b[49m\u001b[43mX\u001b[49m\u001b[43m)\u001b[49m\n",
      "File \u001b[0;32m/scratch/htc/ldonati/anaconda3/envs/emma/lib/python3.9/site-packages/scipy/sparse/linalg/_interface.py:189\u001b[0m, in \u001b[0;36mLinearOperator._matmat\u001b[0;34m(self, X)\u001b[0m\n\u001b[1;32m    182\u001b[0m \u001b[38;5;28;01mdef\u001b[39;00m \u001b[38;5;21m_matmat\u001b[39m(\u001b[38;5;28mself\u001b[39m, X):\n\u001b[1;32m    183\u001b[0m     \u001b[38;5;124;03m\"\"\"Default matrix-matrix multiplication handler.\u001b[39;00m\n\u001b[1;32m    184\u001b[0m \n\u001b[1;32m    185\u001b[0m \u001b[38;5;124;03m    Falls back on the user-defined _matvec method, so defining that will\u001b[39;00m\n\u001b[1;32m    186\u001b[0m \u001b[38;5;124;03m    define matrix multiplication (though in a very suboptimal way).\u001b[39;00m\n\u001b[1;32m    187\u001b[0m \u001b[38;5;124;03m    \"\"\"\u001b[39;00m\n\u001b[0;32m--> 189\u001b[0m     \u001b[38;5;28;01mreturn\u001b[39;00m np\u001b[38;5;241m.\u001b[39mhstack([\u001b[38;5;28mself\u001b[39m\u001b[38;5;241m.\u001b[39mmatvec(col\u001b[38;5;241m.\u001b[39mreshape(\u001b[38;5;241m-\u001b[39m\u001b[38;5;241m1\u001b[39m,\u001b[38;5;241m1\u001b[39m)) \u001b[38;5;28;01mfor\u001b[39;00m col \u001b[38;5;129;01min\u001b[39;00m X\u001b[38;5;241m.\u001b[39mT])\n",
      "File \u001b[0;32m/scratch/htc/ldonati/anaconda3/envs/emma/lib/python3.9/site-packages/scipy/sparse/linalg/_interface.py:189\u001b[0m, in \u001b[0;36m<listcomp>\u001b[0;34m(.0)\u001b[0m\n\u001b[1;32m    182\u001b[0m \u001b[38;5;28;01mdef\u001b[39;00m \u001b[38;5;21m_matmat\u001b[39m(\u001b[38;5;28mself\u001b[39m, X):\n\u001b[1;32m    183\u001b[0m     \u001b[38;5;124;03m\"\"\"Default matrix-matrix multiplication handler.\u001b[39;00m\n\u001b[1;32m    184\u001b[0m \n\u001b[1;32m    185\u001b[0m \u001b[38;5;124;03m    Falls back on the user-defined _matvec method, so defining that will\u001b[39;00m\n\u001b[1;32m    186\u001b[0m \u001b[38;5;124;03m    define matrix multiplication (though in a very suboptimal way).\u001b[39;00m\n\u001b[1;32m    187\u001b[0m \u001b[38;5;124;03m    \"\"\"\u001b[39;00m\n\u001b[0;32m--> 189\u001b[0m     \u001b[38;5;28;01mreturn\u001b[39;00m np\u001b[38;5;241m.\u001b[39mhstack([\u001b[38;5;28;43mself\u001b[39;49m\u001b[38;5;241;43m.\u001b[39;49m\u001b[43mmatvec\u001b[49m\u001b[43m(\u001b[49m\u001b[43mcol\u001b[49m\u001b[38;5;241;43m.\u001b[39;49m\u001b[43mreshape\u001b[49m\u001b[43m(\u001b[49m\u001b[38;5;241;43m-\u001b[39;49m\u001b[38;5;241;43m1\u001b[39;49m\u001b[43m,\u001b[49m\u001b[38;5;241;43m1\u001b[39;49m\u001b[43m)\u001b[49m\u001b[43m)\u001b[49m \u001b[38;5;28;01mfor\u001b[39;00m col \u001b[38;5;129;01min\u001b[39;00m X\u001b[38;5;241m.\u001b[39mT])\n",
      "File \u001b[0;32m/scratch/htc/ldonati/anaconda3/envs/emma/lib/python3.9/site-packages/scipy/sparse/linalg/_interface.py:234\u001b[0m, in \u001b[0;36mLinearOperator.matvec\u001b[0;34m(self, x)\u001b[0m\n\u001b[1;32m    231\u001b[0m \u001b[38;5;28;01mif\u001b[39;00m x\u001b[38;5;241m.\u001b[39mshape \u001b[38;5;241m!=\u001b[39m (N,) \u001b[38;5;129;01mand\u001b[39;00m x\u001b[38;5;241m.\u001b[39mshape \u001b[38;5;241m!=\u001b[39m (N,\u001b[38;5;241m1\u001b[39m):\n\u001b[1;32m    232\u001b[0m     \u001b[38;5;28;01mraise\u001b[39;00m \u001b[38;5;167;01mValueError\u001b[39;00m(\u001b[38;5;124m'\u001b[39m\u001b[38;5;124mdimension mismatch\u001b[39m\u001b[38;5;124m'\u001b[39m)\n\u001b[0;32m--> 234\u001b[0m y \u001b[38;5;241m=\u001b[39m \u001b[38;5;28;43mself\u001b[39;49m\u001b[38;5;241;43m.\u001b[39;49m\u001b[43m_matvec\u001b[49m\u001b[43m(\u001b[49m\u001b[43mx\u001b[49m\u001b[43m)\u001b[49m\n\u001b[1;32m    236\u001b[0m \u001b[38;5;28;01mif\u001b[39;00m \u001b[38;5;28misinstance\u001b[39m(x, np\u001b[38;5;241m.\u001b[39mmatrix):\n\u001b[1;32m    237\u001b[0m     y \u001b[38;5;241m=\u001b[39m asmatrix(y)\n",
      "File \u001b[0;32m/scratch/htc/ldonati/anaconda3/envs/emma/lib/python3.9/site-packages/scipy/sparse/linalg/_interface.py:591\u001b[0m, in \u001b[0;36m_CustomLinearOperator._matvec\u001b[0;34m(self, x)\u001b[0m\n\u001b[1;32m    590\u001b[0m \u001b[38;5;28;01mdef\u001b[39;00m \u001b[38;5;21m_matvec\u001b[39m(\u001b[38;5;28mself\u001b[39m, x):\n\u001b[0;32m--> 591\u001b[0m     \u001b[38;5;28;01mreturn\u001b[39;00m \u001b[38;5;28;43mself\u001b[39;49m\u001b[38;5;241;43m.\u001b[39;49m\u001b[43m__matvec_impl\u001b[49m\u001b[43m(\u001b[49m\u001b[43mx\u001b[49m\u001b[43m)\u001b[49m\n",
      "\u001b[0;31mTypeError\u001b[0m: 'NoneType' object is not callable"
     ]
    }
   ],
   "source": [
    "import scipy.sparse.linalg as spl\n",
    "\n",
    "# Create the LinearOperator\n",
    "linear_operator = spl.LinearOperator((Nbins, Nbins), matvec=tildeQ_matmul)\n",
    "\n",
    "\n",
    "scipy.sparse.linalg.expm_multiply(linear_operator, chi[:,0])"
   ]
  },
  {
   "cell_type": "code",
   "execution_count": 28,
   "id": "9e3d9d70",
   "metadata": {},
   "outputs": [
    {
     "data": {
      "text/plain": [
       "array([ 6.29856405e-15,  6.46569170e-02,  6.04732616e-01,  1.38137048e+00,\n",
       "        1.80594886e+00, -1.91969923e-14,  7.38468158e-02,  6.90685238e-01,\n",
       "        1.57770917e+00,  2.06263427e+00, -1.00310817e-14,  4.82721960e-02,\n",
       "        4.51487215e-01,  1.03131713e+00,  1.34830303e+00, -2.88097136e-15,\n",
       "        7.70656268e-03,  7.20790601e-02,  1.64647785e-01,  2.15253970e-01,\n",
       "       -2.34902473e-14, -4.47563784e-14,  8.20472237e-14, -2.33981529e-14,\n",
       "        1.38947325e-14,  7.14731639e-02,  8.32453951e-02,  2.84748263e-01,\n",
       "        6.68498496e-01,  8.91330525e-01,  6.68041987e-02,  8.72002255e-02,\n",
       "        3.51307924e-01,  8.14642942e-01,  1.07648745e+00,  3.57365819e-02,\n",
       "        5.58828183e-02,  2.67381490e-01,  6.04462484e-01,  7.82788283e-01,\n",
       "        4.66896524e-03,  1.29308596e-02,  7.94325075e-02,  1.65389149e-01,\n",
       "        1.98964822e-01,  1.29848047e-14,  6.97160383e-03,  5.33611365e-02,\n",
       "        9.97506692e-02,  1.06722273e-01,  6.68484601e-01,  3.46402558e-01,\n",
       "       -7.80655519e-01, -1.51430681e+00, -1.33696920e+00,  6.24816024e-01,\n",
       "        3.63195567e-01, -4.44745392e-01, -8.98193485e-01, -6.96293733e-01,\n",
       "        3.34242301e-01,  2.25949329e-01, -5.32907052e-15, -3.57388543e-02,\n",
       "        1.12170917e-01,  4.36685771e-02,  6.27750088e-02,  2.54534917e-01,\n",
       "        4.72222908e-01,  5.27228781e-01, -1.10204635e-14,  4.36685771e-02,\n",
       "        3.34242301e-01,  6.24816024e-01,  6.68484601e-01,  1.52699700e+00,\n",
       "        8.76590191e-01, -1.11592406e+00, -3.38188704e+00, -3.61917085e+00,\n",
       "        1.42724633e+00,  8.62424244e-01, -7.43476394e-01, -2.64724193e+00,\n",
       "       -2.87342367e+00,  7.63498501e-01,  4.80107004e-01, -2.67381490e-01,\n",
       "       -1.19263395e+00, -1.31553265e+00,  9.97506692e-02,  1.15150027e-01,\n",
       "        3.64917607e-01,  5.89504482e-01,  6.23684029e-01, -2.77727187e-14,\n",
       "        6.68041987e-02,  5.11323943e-01,  9.55843688e-01,  1.02264789e+00,\n",
       "        1.99633519e+00,  1.10558733e+00, -1.35952084e+00, -4.55577855e+00,\n",
       "       -4.69766808e+00,  1.86592513e+00,  1.09699837e+00, -8.34465262e-01,\n",
       "       -3.52040416e+00, -3.66951515e+00,  9.98167595e-01,  5.89074391e-01,\n",
       "       -4.51487215e-01, -1.92677237e+00, -2.03937441e+00,  1.30410060e-01,\n",
       "        1.28068965e-01,  3.29809609e-01,  4.71426489e-01,  5.04071512e-01,\n",
       "       -3.04412365e-14,  5.84907214e-02,  4.47692015e-01,  8.36893309e-01,\n",
       "        8.95384031e-01])"
      ]
     },
     "execution_count": 28,
     "metadata": {},
     "output_type": "execute_result"
    }
   ],
   "source": [
    "linear_operator.matvec(chi[:,0])"
   ]
  },
  {
   "cell_type": "code",
   "execution_count": null,
   "id": "dff1d3a5",
   "metadata": {},
   "outputs": [],
   "source": [
    "# Calculate approximated Qc\n",
    "\n",
    "Niters = 10\n",
    "tau =  1\n",
    "\n",
    "rates = np.zeros((2**Nd,2**Nd,len(KTAU)))\n",
    "\n",
    "\n",
    "for k,t in enumerate(KTAU):\n",
    "    \n",
    "for i in range(Niters):\n",
    "   \n",
    "    \n",
    "    tildeK = scipy.linalg.expm(tildeQ * t)\n",
    "    #tildeK = tildeQ * t + np.diag(np.ones(Nbins))\n",
    "    chi1  = np.matmul(tildeK, chi)\n",
    "    M     = np.linalg.lstsq(chi1, chi, rcond=-1)[0]\n",
    "    hatQc = scipy.linalg.logm(np.linalg.inv(M)) / t\n",
    "    rates[:,:,k] = hatQc"
   ]
  },
  {
   "cell_type": "code",
   "execution_count": 29,
   "id": "b2fdeaed",
   "metadata": {},
   "outputs": [
    {
     "data": {
      "text/plain": [
       "'1.11.1'"
      ]
     },
     "execution_count": 29,
     "metadata": {},
     "output_type": "execute_result"
    }
   ],
   "source": [
    "scipy.__version__"
   ]
  },
  {
   "cell_type": "code",
   "execution_count": null,
   "id": "0baf2f0e",
   "metadata": {},
   "outputs": [],
   "source": []
  }
 ],
 "metadata": {
  "kernelspec": {
   "display_name": "Python 3 (ipykernel)",
   "language": "python",
   "name": "python3"
  },
  "language_info": {
   "codemirror_mode": {
    "name": "ipython",
    "version": 3
   },
   "file_extension": ".py",
   "mimetype": "text/x-python",
   "name": "python",
   "nbconvert_exporter": "python",
   "pygments_lexer": "ipython3",
   "version": "3.9.13"
  }
 },
 "nbformat": 4,
 "nbformat_minor": 5
}
